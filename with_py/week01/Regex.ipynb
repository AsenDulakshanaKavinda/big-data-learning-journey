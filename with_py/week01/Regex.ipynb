{
 "cells": [
  {
   "cell_type": "code",
   "execution_count": 1,
   "id": "1d9b9128",
   "metadata": {},
   "outputs": [],
   "source": [
    "# Use the 're' module. Regex is for pattern matching in text.\n",
    "import re"
   ]
  },
  {
   "cell_type": "code",
   "execution_count": null,
   "id": "1959ac90",
   "metadata": {},
   "outputs": [],
   "source": [
    "text = \"1 Hello there! MY email is test.user123@example.com and my backup is test.alt@mail.co.uk. You can call me at 9876543210 or 8765432109. Let's meet at 5:00 PM on 20-04-2025.\""
   ]
  },
  {
   "cell_type": "markdown",
   "id": "06fbbc09",
   "metadata": {},
   "source": [
    "#### common methods use"
   ]
  },
  {
   "cell_type": "code",
   "execution_count": 5,
   "id": "a92cb8d7",
   "metadata": {},
   "outputs": [
    {
     "name": "stdout",
     "output_type": "stream",
     "text": [
      "found number:  1\n"
     ]
    }
   ],
   "source": [
    "# re.match(pattern, string) - Checks for a match only at the beginning of the string\n",
    "match = re.match(r'\\d+', text)\n",
    "if match:\n",
    "    print(\"found number: \", match.group())"
   ]
  },
  {
   "cell_type": "code",
   "execution_count": 7,
   "id": "72035882",
   "metadata": {},
   "outputs": [
    {
     "name": "stdout",
     "output_type": "stream",
     "text": [
      "upper forund:  H\n"
     ]
    }
   ],
   "source": [
    "# re.search(pattern, string) - Searches the entire string for the first match\n",
    "match = re.search(r'[A-Z]+', text)\n",
    "if match:\n",
    "    print(\"upper forund: \", match.group())"
   ]
  },
  {
   "cell_type": "code",
   "execution_count": 10,
   "id": "c6968fc4",
   "metadata": {},
   "outputs": [
    {
     "name": "stdout",
     "output_type": "stream",
     "text": [
      "emails:  ['test.user123@example.com', 'test.alt@mail.co.uk.']\n"
     ]
    }
   ],
   "source": [
    "# re.findall(pattern, string) - Returns a list of all non-overlapping matches\n",
    "email_pattern = r'[a-zA-Z0-9_.+-]+@[a-zA-Z0-9-]+\\.[a-zA-Z0-9-.]+'\n",
    "match = re.findall(email_pattern, text)\n",
    "if match:\n",
    "    print('emails: ', match)"
   ]
  },
  {
   "cell_type": "code",
   "execution_count": 12,
   "id": "d60ac1c1",
   "metadata": {},
   "outputs": [
    {
     "name": "stdout",
     "output_type": "stream",
     "text": [
      "Time found: 5:00\n"
     ]
    }
   ],
   "source": [
    "# re.finditer(pattern, string) - Returns an iterator yielding match objects\n",
    "for match in re.finditer(r'\\d{1,2}:\\d{2}', text):\n",
    "    print(\"Time found:\", match.group())"
   ]
  },
  {
   "cell_type": "code",
   "execution_count": null,
   "id": "72e7c28d",
   "metadata": {},
   "outputs": [
    {
     "name": "stdout",
     "output_type": "stream",
     "text": [
      "X Hello there! My email is test.userX@example.com and my backup is test.alt@mail.co.uk. You can call me at X or X. Let's meet at X:X PM on X-X-X.\n"
     ]
    }
   ],
   "source": [
    "# re.sub(pattern, repl, string) - Replaces matches with a string\n",
    "masked_text = re.sub(r'\\d+', 'X', text)\n",
    "print(masked_text)"
   ]
  },
  {
   "cell_type": "code",
   "execution_count": null,
   "id": "c641848c",
   "metadata": {},
   "outputs": [
    {
     "name": "stdout",
     "output_type": "stream",
     "text": [
      "['1', 'Hello', 'there', 'My', 'email', 'is', 'test.user123@example.com', 'and', 'my', 'backup', 'is', 'test.alt@mail.co.uk.', 'You', 'can', 'call', 'me', 'at', '9876543210', 'or', '8765432109.', \"Let's\", 'meet', 'at', '5:00', 'PM', 'on', '20-04-2025.']\n"
     ]
    }
   ],
   "source": [
    "# re.split(pattern, string) - Splits the string by the occurrences of the pattern\n",
    "parts = re.split(r'[\\s,!]+', text)\n",
    "print(parts)"
   ]
  },
  {
   "cell_type": "code",
   "execution_count": 15,
   "id": "329e2c1d",
   "metadata": {},
   "outputs": [
    {
     "name": "stdout",
     "output_type": "stream",
     "text": [
      "Phone numbers: ['9876543210', '8765432109']\n"
     ]
    }
   ],
   "source": [
    "# re.compile(pattern) - Compiles a regex pattern for reuse\n",
    "phone_pattern = re.compile(r'\\d{10}')\n",
    "phones = phone_pattern.findall(text)\n",
    "print(\"Phone numbers:\", phones)"
   ]
  },
  {
   "cell_type": "code",
   "execution_count": null,
   "id": "a9524bd5",
   "metadata": {},
   "outputs": [],
   "source": [
    "\"\"\" \n",
    "Pattern - Meaning\n",
    ". - Any character except newline\n",
    "^ - Start of string\n",
    "$ - End of string\n",
    "* - 0 or more repetitions\n",
    "+ - 1 or more repetitions\n",
    "? - 0 or 1 repetition\n",
    "{m} - Exactly m repetitions\n",
    "{m,n} - Between m and n repetitions\n",
    "[] - Matches any single character in brackets\n",
    "` - `\n",
    "\\d - Digit (0–9)\n",
    "\\D - Non-digit\n",
    "\\w - Word character (a-z, A-Z, 0-9, _)\n",
    "\\W - Non-word character\n",
    "\\s - Whitespace\n",
    "\\S - Non-whitespace \n",
    "\"\"\""
   ]
  },
  {
   "cell_type": "markdown",
   "id": "1a1c9615",
   "metadata": {},
   "source": []
  },
  {
   "cell_type": "code",
   "execution_count": null,
   "id": "1f7a31fb",
   "metadata": {},
   "outputs": [],
   "source": []
  }
 ],
 "metadata": {
  "kernelspec": {
   "display_name": "Python 3",
   "language": "python",
   "name": "python3"
  },
  "language_info": {
   "codemirror_mode": {
    "name": "ipython",
    "version": 3
   },
   "file_extension": ".py",
   "mimetype": "text/x-python",
   "name": "python",
   "nbconvert_exporter": "python",
   "pygments_lexer": "ipython3",
   "version": "3.13.2"
  }
 },
 "nbformat": 4,
 "nbformat_minor": 5
}
