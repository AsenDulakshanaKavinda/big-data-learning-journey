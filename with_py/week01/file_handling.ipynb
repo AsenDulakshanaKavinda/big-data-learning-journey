{
 "cells": [
  {
   "cell_type": "code",
   "execution_count": 9,
   "id": "7d96acc3",
   "metadata": {},
   "outputs": [],
   "source": [
    "# open a file\n",
    "file = open('example.txt', 'r')"
   ]
  },
  {
   "cell_type": "markdown",
   "id": "65300f56",
   "metadata": {},
   "source": [
    "* \"r\" – read\n",
    "* \"w\" – write (overwrite)\n",
    "* \"a\" – append\n",
    "* \"rb\" – read binary\n",
    "* \"wb\" – write binary"
   ]
  },
  {
   "cell_type": "code",
   "execution_count": 10,
   "id": "78c71f21",
   "metadata": {},
   "outputs": [
    {
     "name": "stdout",
     "output_type": "stream",
     "text": [
      "Python  Easy language for AI, data science, web apps, and automation.\n",
      "JavaScript  Runs websites in the browser, makes them interactive.\n",
      "Java  Used for Android apps, large business software, and web servers.\n",
      "C  Good for system software, like operating systems and hardware drivers.\n",
      "C++  Faster version of C, great for games and 3D apps.\n",
      "C#  Best for Windows apps and games using Unity.\n",
      "PHP  Creates dynamic websites like Facebook (earlier) and blogs.\n"
     ]
    }
   ],
   "source": [
    "# reading a file\n",
    "content = file.read()\n",
    "print(content)\n"
   ]
  },
  {
   "cell_type": "code",
   "execution_count": null,
   "id": "bb054040",
   "metadata": {},
   "outputs": [],
   "source": [
    "# close the file\n",
    "file.close()"
   ]
  },
  {
   "cell_type": "code",
   "execution_count": 12,
   "id": "f126ee76",
   "metadata": {},
   "outputs": [
    {
     "name": "stdout",
     "output_type": "stream",
     "text": [
      "Python  Easy language for AI, data science, web apps, and automation.\n",
      "JavaScript  Runs websites in the browser, makes them interactive.\n",
      "Java  Used for Android apps, large business software, and web servers.\n",
      "C  Good for system software, like operating systems and hardware drivers.\n",
      "C++  Faster version of C, great for games and 3D apps.\n",
      "C#  Best for Windows apps and games using Unity.\n",
      "PHP  Creates dynamic websites like Facebook (earlier) and blogs.\n"
     ]
    }
   ],
   "source": [
    "# read file line by line\n",
    "with open('example.txt', 'r') as file:\n",
    "    for line in file:\n",
    "        print(line.strip())\n"
   ]
  },
  {
   "cell_type": "code",
   "execution_count": 13,
   "id": "d3d7fe39",
   "metadata": {},
   "outputs": [],
   "source": [
    "# writing to a file\n",
    "with open(\"output.txt\", 'w') as file:\n",
    "    file.write(\"Swift Builds apps for iPhones, iPads, and Macs.\")"
   ]
  },
  {
   "cell_type": "code",
   "execution_count": 15,
   "id": "d26ddfea",
   "metadata": {},
   "outputs": [],
   "source": [
    "# appending to a file\n",
    "with open(\"output.txt\", 'a') as file:\n",
    "    file.write(\"\\nGo (Golang) Simple and fast for web servers and cloud tools.\")"
   ]
  },
  {
   "cell_type": "code",
   "execution_count": null,
   "id": "f423c7eb",
   "metadata": {},
   "outputs": [
    {
     "name": "stdout",
     "output_type": "stream",
     "text": [
      "['Swift Builds apps for iPhones, iPads, and Macs.\\n', 'Go (Golang) Simple and fast for web servers and cloud tools.']\n"
     ]
    }
   ],
   "source": [
    "# read and get output as a list\n",
    "with open(\"output.txt\", 'r') as file:\n",
    "    print(file.readlines())\n",
    "    "
   ]
  },
  {
   "cell_type": "code",
   "execution_count": 21,
   "id": "c5b76b20",
   "metadata": {},
   "outputs": [
    {
     "name": "stdout",
     "output_type": "stream",
     "text": [
      "b'\\x89PNG\\r\\n\\x1a\\n\\x00\\x00'\n"
     ]
    }
   ],
   "source": [
    "with open(\"python.png\", 'rb') as image:\n",
    "    data = image.read()\n",
    "    print(data[:10])"
   ]
  },
  {
   "cell_type": "code",
   "execution_count": null,
   "id": "ad22ca77",
   "metadata": {},
   "outputs": [],
   "source": []
  },
  {
   "cell_type": "code",
   "execution_count": null,
   "id": "ab5fb809",
   "metadata": {},
   "outputs": [],
   "source": []
  },
  {
   "cell_type": "code",
   "execution_count": null,
   "id": "df1f3db9",
   "metadata": {},
   "outputs": [],
   "source": []
  },
  {
   "cell_type": "code",
   "execution_count": null,
   "id": "f463625d",
   "metadata": {},
   "outputs": [],
   "source": []
  },
  {
   "cell_type": "code",
   "execution_count": null,
   "id": "08d074e7",
   "metadata": {},
   "outputs": [],
   "source": []
  }
 ],
 "metadata": {
  "kernelspec": {
   "display_name": "Python 3",
   "language": "python",
   "name": "python3"
  },
  "language_info": {
   "codemirror_mode": {
    "name": "ipython",
    "version": 3
   },
   "file_extension": ".py",
   "mimetype": "text/x-python",
   "name": "python",
   "nbconvert_exporter": "python",
   "pygments_lexer": "ipython3",
   "version": "3.13.2"
  }
 },
 "nbformat": 4,
 "nbformat_minor": 5
}
